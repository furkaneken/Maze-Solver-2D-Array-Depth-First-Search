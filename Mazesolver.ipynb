{
  "nbformat": 4,
  "nbformat_minor": 0,
  "metadata": {
    "colab": {
      "name": "furkaneken_hw5.ipynb",
      "provenance": [],
      "collapsed_sections": []
    },
    "kernelspec": {
      "name": "python3",
      "display_name": "Python 3"
    }
  },
  "cells": [
    {
      "cell_type": "code",
      "metadata": {
        "id": "GJF4qdfOOR_-",
        "colab_type": "code",
        "colab": {}
      },
      "source": [
        "import collections\n",
        "import numpy as np\n"
      ],
      "execution_count": 0,
      "outputs": []
    },
    {
      "cell_type": "code",
      "metadata": {
        "id": "KfXeUetPW7Gt",
        "colab_type": "code",
        "outputId": "15cbedeb-e34e-42e4-95ad-98ffe52b8658",
        "colab": {
          "base_uri": "https://localhost:8080/",
          "height": 128
        }
      },
      "source": [
        "from google.colab import drive\n",
        "drive.mount('/content/drive', force_remount=True)"
      ],
      "execution_count": 2,
      "outputs": [
        {
          "output_type": "stream",
          "text": [
            "Go to this URL in a browser: https://accounts.google.com/o/oauth2/auth?client_id=947318989803-6bn6qk8qdgf4n4g3pfee6491hc0brc4i.apps.googleusercontent.com&redirect_uri=urn%3aietf%3awg%3aoauth%3a2.0%3aoob&response_type=code&scope=email%20https%3a%2f%2fwww.googleapis.com%2fauth%2fdocs.test%20https%3a%2f%2fwww.googleapis.com%2fauth%2fdrive%20https%3a%2f%2fwww.googleapis.com%2fauth%2fdrive.photos.readonly%20https%3a%2f%2fwww.googleapis.com%2fauth%2fpeopleapi.readonly\n",
            "\n",
            "Enter your authorization code:\n",
            "··········\n",
            "Mounted at /content/drive\n"
          ],
          "name": "stdout"
        }
      ]
    },
    {
      "cell_type": "code",
      "metadata": {
        "id": "BS-8zQrXSabP",
        "colab_type": "code",
        "colab": {}
      },
      "source": [
        "mazedeneme = np.array([[0,0,0,0,1,0,1,0,0,0],\n",
        "                       [0,0,0,1,0,0,1,0,1,0],\n",
        "                       [0,0,1,0,0,0,1,0,1,0],\n",
        "                       [0,1,0,0,1,0,1,0,1,0],\n",
        "                       [0,0,0,1,1,0,1,0,1,0],\n",
        "                       [1,0,0,1,0,0,0,0,1,0],\n",
        "                       [1,1,1,1,0,0,0,0,1,0]\n",
        "                       ])"
      ],
      "execution_count": 0,
      "outputs": []
    },
    {
      "cell_type": "code",
      "metadata": {
        "id": "BoQbyWePOec5",
        "colab_type": "code",
        "colab": {}
      },
      "source": [
        "def read_mazes(input_file):\n",
        "    mazes = []\n",
        "\n",
        "    with open(input_file, 'r') as maze_file:\n",
        "        maze = []\n",
        "        \n",
        "        for line in maze_file:\n",
        "            if line != '\\n':\n",
        "                maze.append(line.replace('\\n','').split(','))\n",
        "            else:\n",
        "                mazes.append(np.array(maze, dtype=int))\n",
        "                maze = []\n",
        "\n",
        "        if len(maze) > 0:\n",
        "            mazes.append(np.array(maze, dtype=int))\n",
        "    \n",
        "    return mazes"
      ],
      "execution_count": 0,
      "outputs": []
    },
    {
      "cell_type": "code",
      "metadata": {
        "id": "_QRQ8l-EOnmZ",
        "colab_type": "code",
        "colab": {}
      },
      "source": [
        "def get_directions(path):\n",
        "    directions = \"\"\n",
        "\n",
        "    current_cell = path[0]\n",
        "\n",
        "    for cell in path[1:]:\n",
        "        if current_cell[0] == cell[0]:\n",
        "            if cell[1] - current_cell[1] > 0:\n",
        "                directions += \"R \"\n",
        "            else:\n",
        "                directions += \"L \"\n",
        "        else:\n",
        "            if cell[0] - current_cell[0] > 0:\n",
        "                directions += \"D \"\n",
        "            else:\n",
        "                directions += \"U \"\n",
        "        current_cell = cell\n",
        "\n",
        "    return directions.strip()"
      ],
      "execution_count": 0,
      "outputs": []
    },
    {
      "cell_type": "code",
      "metadata": {
        "id": "m_gJQ3a_Orak",
        "colab_type": "code",
        "colab": {}
      },
      "source": [
        "def solve_dfs(maze):\n",
        "    visited = [[0,0]]\n",
        "    stackpath = [[0,0]]\n",
        "    start = [0, 0]\n",
        "    goal = [maze.shape[0]-1, maze.shape[1]-1]\n",
        "    height = maze.shape[0]\n",
        "    width = maze.shape[1]\n",
        "    height = height -1\n",
        "    width = width -1\n",
        "    \n",
        "    a = [0,5]\n",
        "    while start != goal:\n",
        "      \n",
        "      if start[1] < width and maze[start[0]][start[1]+1] != 1 and [start[0],start[1]+1] not in visited:\n",
        "        start[1] = start[1] + 1\n",
        "        visited.append([start[0],start[1]])\n",
        "        stackpath.append([start[0], start[1]])\n",
        "        #print(\"moving right..\")\n",
        "        \n",
        "      elif start[0] < height and maze[start[0]+1][start[1]] != 1 and [start[0]+1, start[1]] not in visited:\n",
        "        start[0] = start[0] + 1\n",
        "        visited.append([start[0],start[1]])\n",
        "        stackpath.append([start[0], start[1]])\n",
        "        #print(\"moving down..\")\n",
        "        \n",
        "      elif start[1] > 0 and maze[start[0]][start[1]-1] != 1 and [start[0], start[1]-1] not in visited:\n",
        "        start[1] = start[1] - 1\n",
        "        visited.append([start[0],start[1]])\n",
        "        stackpath.append([start[0], start[1]])\n",
        "        #print(\"moving left..\")\n",
        "        \n",
        "      elif start[0] > 0 and maze[start[0]-1][start[1]] != 1 and [start[0]-1, start[1]] not in visited:\n",
        "        start[0] = start[0] - 1\n",
        "        visited.append([start[0],start[1]])\n",
        "        stackpath.append([start[0], start[1]])\n",
        "        #print(\"moving up..\")\n",
        "        \n",
        "      else:                                 \n",
        "        stackpath.pop()\n",
        "        if  len(stackpath) == 0:\n",
        "          return None\n",
        "          break\n",
        "        startohbe = []\n",
        "        startohbe = stackpath[-1]\n",
        "        start = startohbe[:]\n",
        "        \n",
        "          \n",
        "    \n",
        "    return stackpath\n",
        "\n",
        "\n",
        "\n",
        "\n",
        "\n",
        "\n",
        "\n",
        "\n",
        "\n",
        "\n",
        "\n",
        "\n",
        "                    \n",
        "    ### You may define this solve_dfs function in any way you want or just use this function. "
      ],
      "execution_count": 0,
      "outputs": []
    },
    {
      "cell_type": "code",
      "metadata": {
        "id": "6bhFJukCSfuS",
        "colab_type": "code",
        "outputId": "a4c1bc85-cfca-45f9-fbcb-e6011aebeb37",
        "colab": {
          "base_uri": "https://localhost:8080/",
          "height": 55
        }
      },
      "source": [
        "bitti = solve_dfs(mazedeneme)\n",
        "print(bitti)"
      ],
      "execution_count": 0,
      "outputs": [
        {
          "output_type": "stream",
          "text": [
            "[[0, 0], [0, 1], [0, 2], [1, 2], [1, 1], [2, 1], [2, 0], [3, 0], [4, 0], [4, 1], [4, 2], [3, 2], [3, 3], [2, 3], [2, 4], [2, 5], [3, 5], [4, 5], [5, 5], [5, 6], [5, 7], [4, 7], [3, 7], [2, 7], [1, 7], [0, 7], [0, 8], [0, 9], [1, 9], [2, 9], [3, 9], [4, 9], [5, 9], [6, 9]]\n"
          ],
          "name": "stdout"
        }
      ]
    },
    {
      "cell_type": "code",
      "metadata": {
        "id": "lzKyx4gGSll-",
        "colab_type": "code",
        "outputId": "d162a438-5025-421e-ba94-6c35d1954f34",
        "colab": {
          "base_uri": "https://localhost:8080/",
          "height": 73
        }
      },
      "source": [
        "print(bitti)\n",
        "get_directions(bitti)"
      ],
      "execution_count": 0,
      "outputs": [
        {
          "output_type": "stream",
          "text": [
            "[[0, 0], [0, 1], [0, 2], [1, 2], [1, 1], [2, 1], [2, 0], [3, 0], [4, 0], [4, 1], [4, 2], [3, 2], [3, 3], [2, 3], [2, 4], [2, 5], [3, 5], [4, 5], [5, 5], [5, 6], [5, 7], [4, 7], [3, 7], [2, 7], [1, 7], [0, 7], [0, 8], [0, 9], [1, 9], [2, 9], [3, 9], [4, 9], [5, 9], [6, 9]]\n"
          ],
          "name": "stdout"
        },
        {
          "output_type": "execute_result",
          "data": {
            "text/plain": [
              "'R R D L D L D D R R U R U R R D D D R R U U U U U R R D D D D D D'"
            ]
          },
          "metadata": {
            "tags": []
          },
          "execution_count": 358
        }
      ]
    },
    {
      "cell_type": "code",
      "metadata": {
        "id": "7K9sbx9YcMyX",
        "colab_type": "code",
        "outputId": "1c5d78ea-8ec8-43da-dd5e-60023f688262",
        "colab": {
          "base_uri": "https://localhost:8080/",
          "height": 380
        }
      },
      "source": [
        "mazes = read_mazes('/content/drive/My Drive/input.txt')\n",
        "\n",
        "for maze, ind in zip(mazes, range(1, len(mazes)+1)):\n",
        "    path = solve_dfs(maze)\n",
        "\n",
        "    if path != None:\n",
        "        directions = get_directions(path)\n",
        "        print(str(ind) + \") \" + directions + '\\n')\n",
        "    else:\n",
        "        print(str(ind) + ') Could not find a path...\\n')"
      ],
      "execution_count": 6,
      "outputs": [
        {
          "output_type": "stream",
          "text": [
            "1) R R R R R R R R R D D L D D R\n",
            "\n",
            "2) D D R D R R R D\n",
            "\n",
            "3) R R D L D L D D R R U R U R R D D D R R U U U U U R R D D D D D D\n",
            "\n",
            "4) D D R D R R R D\n",
            "\n",
            "5) Could not find a path...\n",
            "\n",
            "6) R R R R R D D D D\n",
            "\n",
            "7) R R D L D L D D R R R U U R R D R R R D D\n",
            "\n",
            "8) D R R R R U R R R D R R R R D R R D R R R R R R U R U U R R R R R R D D D R R D D L L D L L L D D L D D R D R R R R R D D R D\n",
            "\n",
            "9) R R R R R R D R R R R R D R D R R R R R R D R D L D L D D L L U R U L L L D D D L L L D D R R R D D R R R R R R D D D L L D D R D R D D D D L D D D R D L D D R\n",
            "\n",
            "10) D R D D D D D R R D D L L D D R D R R R D L D D R R R R R R D L D D R R R R D L L D D R D R D R R R R R R R R R R R R R D D R R R D D D D D\n",
            "\n"
          ],
          "name": "stdout"
        }
      ]
    },
    {
      "cell_type": "code",
      "metadata": {
        "id": "OQREVgmdUhWF",
        "colab_type": "code",
        "outputId": "619063ab-1088-4851-89f6-e472befbe405",
        "colab": {
          "base_uri": "https://localhost:8080/",
          "height": 72
        }
      },
      "source": [
        "\n",
        "a = [1,2]\n",
        "b = a[:]\n",
        "print(b)\n",
        "b[0] = 3\n",
        "print(a)\n",
        "print(b)"
      ],
      "execution_count": 0,
      "outputs": [
        {
          "output_type": "stream",
          "text": [
            "[1, 2]\n",
            "[1, 2]\n",
            "[3, 2]\n"
          ],
          "name": "stdout"
        }
      ]
    }
  ]
}